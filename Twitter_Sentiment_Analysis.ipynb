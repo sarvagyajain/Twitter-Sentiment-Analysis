{
 "cells": [
  {
   "cell_type": "markdown",
   "metadata": {},
   "source": [
    "## Importing essential libraries"
   ]
  },
  {
   "cell_type": "code",
   "execution_count": 1,
   "metadata": {},
   "outputs": [],
   "source": [
    "import tweepy\n",
    "import pandas as pd\n",
    "import numpy as np\n",
    "from textblob import TextBlob\n",
    "import re\n",
    "from datetime import datetime, timedelta"
   ]
  },
  {
   "cell_type": "markdown",
   "metadata": {},
   "source": [
    "## Keys and tokens for accessing tweets"
   ]
  },
  {
   "cell_type": "code",
   "execution_count": 2,
   "metadata": {},
   "outputs": [],
   "source": [
    "ACCESS_TOKEN=\"802567534264389632-YaYdglNfenTBGmxTITX3SBDEPFlYzmT\"\n",
    "ACCESS_TOKEN_SECRET=\"ajNgI7XALZwOjkwX3i1bud8QoZNVXPGbJ7lbMS1c15P0E\"\n",
    "CONSUMER_KEY=\"iVDMrvc1G7UEczFtxN46Vo3n6\"\n",
    "CONSUMER_SECRET=\"AEtF5hGcUQWKB68Q45WK3pNXJJ6kJ40U8IhMMCRr4krFj65IU4\""
   ]
  },
  {
   "cell_type": "markdown",
   "metadata": {},
   "source": [
    "## Twittter Authentication"
   ]
  },
  {
   "cell_type": "code",
   "execution_count": 3,
   "metadata": {},
   "outputs": [],
   "source": [
    "try:\n",
    "    def authentication(CONSUMER_KEY,CONSUMER_SECRET,ACCESS_TOKEN,ACCESS_TOKEN_SECRET):\n",
    "        auth = tweepy.OAuthHandler(CONSUMER_KEY,CONSUMER_SECRET)\n",
    "        auth.set_access_token(ACCESS_TOKEN,ACCESS_TOKEN_SECRET)\n",
    "        api = tweepy.API(auth)\n",
    "        return api\n",
    "except:\n",
    "    print(\"Authentication Failed\")"
   ]
  },
  {
   "cell_type": "markdown",
   "metadata": {},
   "source": [
    "## Funtion to search tweets containing keywords"
   ]
  },
  {
   "cell_type": "code",
   "execution_count": 4,
   "metadata": {},
   "outputs": [],
   "source": [
    "def search_tweets(keyword, total_tweets):\n",
    "    today_datetime = datetime.today().now()\n",
    "    yesterday_datetime = today_datetime - timedelta(days=1)\n",
    "    today_date = today_datetime.strftime('%Y-%m-%d')\n",
    "    yesterday_date = yesterday_datetime.strftime('%Y-%m-%d')\n",
    "    api = authentication(CONSUMER_KEY,CONSUMER_SECRET,ACCESS_TOKEN,ACCESS_TOKEN_SECRET)\n",
    "    \n",
    "    tweets = tweepy.Cursor(api.search, q=keyword,since=yesterday_date,result_type='recent', lang='en').items(total_tweets)\n",
    "    return tweets"
   ]
  },
  {
   "cell_type": "markdown",
   "metadata": {},
   "source": [
    "## getting user input"
   ]
  },
  {
   "cell_type": "code",
   "execution_count": 5,
   "metadata": {},
   "outputs": [
    {
     "name": "stdout",
     "output_type": "stream",
     "text": [
      "Enter a keyword: Narendra Modi\n"
     ]
    }
   ],
   "source": [
    "keyword = str(input('Enter a keyword: '))"
   ]
  },
  {
   "cell_type": "code",
   "execution_count": 6,
   "metadata": {},
   "outputs": [
    {
     "name": "stdout",
     "output_type": "stream",
     "text": [
      "Enter total number of tweets: 200\n"
     ]
    }
   ],
   "source": [
    "total_tweets = int(input(\"Enter total number of tweets: \"))"
   ]
  },
  {
   "cell_type": "markdown",
   "metadata": {},
   "source": [
    "## Function call with keyword and total_tweets as parameters"
   ]
  },
  {
   "cell_type": "code",
   "execution_count": 7,
   "metadata": {},
   "outputs": [],
   "source": [
    "tweets=search_tweets(keyword,total_tweets)"
   ]
  },
  {
   "cell_type": "markdown",
   "metadata": {},
   "source": [
    "## Creating a dataframe of the aquired tweets"
   ]
  },
  {
   "cell_type": "code",
   "execution_count": 8,
   "metadata": {},
   "outputs": [],
   "source": [
    "df=pd.DataFrame(data=[tweet.text for tweet in tweets],columns=['tweets'])"
   ]
  },
  {
   "cell_type": "code",
   "execution_count": 9,
   "metadata": {},
   "outputs": [
    {
     "data": {
      "text/html": [
       "<div>\n",
       "<style scoped>\n",
       "    .dataframe tbody tr th:only-of-type {\n",
       "        vertical-align: middle;\n",
       "    }\n",
       "\n",
       "    .dataframe tbody tr th {\n",
       "        vertical-align: top;\n",
       "    }\n",
       "\n",
       "    .dataframe thead th {\n",
       "        text-align: right;\n",
       "    }\n",
       "</style>\n",
       "<table border=\"1\" class=\"dataframe\">\n",
       "  <thead>\n",
       "    <tr style=\"text-align: right;\">\n",
       "      <th></th>\n",
       "      <th>tweets</th>\n",
       "    </tr>\n",
       "  </thead>\n",
       "  <tbody>\n",
       "    <tr>\n",
       "      <th>0</th>\n",
       "      <td>RT @srinivasiyc: Followed by PM Narendra Modi ...</td>\n",
       "    </tr>\n",
       "    <tr>\n",
       "      <th>1</th>\n",
       "      <td>@ashoswai @HappymonJacob Ashok sir, once upon ...</td>\n",
       "    </tr>\n",
       "    <tr>\n",
       "      <th>2</th>\n",
       "      <td>RT @Chandankrishn13: @HuXijin_GT Xi Jinping is...</td>\n",
       "    </tr>\n",
       "    <tr>\n",
       "      <th>3</th>\n",
       "      <td>RT @narendramodi_in: We are facing many a cris...</td>\n",
       "    </tr>\n",
       "    <tr>\n",
       "      <th>4</th>\n",
       "      <td>RT @JIX5A: Sonia’s foot soldier Rajdeep Asks, ...</td>\n",
       "    </tr>\n",
       "  </tbody>\n",
       "</table>\n",
       "</div>"
      ],
      "text/plain": [
       "                                              tweets\n",
       "0  RT @srinivasiyc: Followed by PM Narendra Modi ...\n",
       "1  @ashoswai @HappymonJacob Ashok sir, once upon ...\n",
       "2  RT @Chandankrishn13: @HuXijin_GT Xi Jinping is...\n",
       "3  RT @narendramodi_in: We are facing many a cris...\n",
       "4  RT @JIX5A: Sonia’s foot soldier Rajdeep Asks, ..."
      ]
     },
     "execution_count": 9,
     "metadata": {},
     "output_type": "execute_result"
    }
   ],
   "source": [
    "df.head()"
   ]
  },
  {
   "cell_type": "markdown",
   "metadata": {},
   "source": [
    "## Cleaning tweets using regex"
   ]
  },
  {
   "cell_type": "code",
   "execution_count": 10,
   "metadata": {},
   "outputs": [],
   "source": [
    "def clean_tweet(tweet):\n",
    "    return ' '.join(re.sub(\"(@[A-Za-z0-9]+)|([^0-9A-Za-z \\t])|(\\w+:\\/\\/\\S+)\", \" \", tweet).split())"
   ]
  },
  {
   "cell_type": "markdown",
   "metadata": {},
   "source": [
    "## Analysing tweet sentiment"
   ]
  },
  {
   "cell_type": "code",
   "execution_count": 11,
   "metadata": {},
   "outputs": [],
   "source": [
    "def analyze_sentiment(tweet):\n",
    "    analysis = TextBlob(clean_tweet(tweet))\n",
    "    if analysis.sentiment.polarity > 0:\n",
    "        return 'positive'\n",
    "    elif analysis.sentiment.polarity == 0:\n",
    "        return 'neutral'\n",
    "    else:\n",
    "        return 'negative'"
   ]
  },
  {
   "cell_type": "markdown",
   "metadata": {},
   "source": [
    "## Adding clean tweets and sentiment to dataframe as columns"
   ]
  },
  {
   "cell_type": "code",
   "execution_count": 12,
   "metadata": {},
   "outputs": [],
   "source": [
    "df['clean_tweets'] = df['tweets'].apply(lambda tweet:clean_tweet(tweet))"
   ]
  },
  {
   "cell_type": "code",
   "execution_count": 13,
   "metadata": {},
   "outputs": [],
   "source": [
    "df['sentiment'] = df['tweets'].apply(lambda tweet:analyze_sentiment(tweet))"
   ]
  },
  {
   "cell_type": "code",
   "execution_count": 14,
   "metadata": {},
   "outputs": [
    {
     "data": {
      "text/html": [
       "<div>\n",
       "<style scoped>\n",
       "    .dataframe tbody tr th:only-of-type {\n",
       "        vertical-align: middle;\n",
       "    }\n",
       "\n",
       "    .dataframe tbody tr th {\n",
       "        vertical-align: top;\n",
       "    }\n",
       "\n",
       "    .dataframe thead th {\n",
       "        text-align: right;\n",
       "    }\n",
       "</style>\n",
       "<table border=\"1\" class=\"dataframe\">\n",
       "  <thead>\n",
       "    <tr style=\"text-align: right;\">\n",
       "      <th></th>\n",
       "      <th>tweets</th>\n",
       "      <th>clean_tweets</th>\n",
       "      <th>sentiment</th>\n",
       "    </tr>\n",
       "  </thead>\n",
       "  <tbody>\n",
       "    <tr>\n",
       "      <th>0</th>\n",
       "      <td>RT @srinivasiyc: Followed by PM Narendra Modi ...</td>\n",
       "      <td>RT Followed by PM Narendra Modi</td>\n",
       "      <td>neutral</td>\n",
       "    </tr>\n",
       "    <tr>\n",
       "      <th>1</th>\n",
       "      <td>@ashoswai @HappymonJacob Ashok sir, once upon ...</td>\n",
       "      <td>Ashok sir once upon a time Former ISI Chief Gn...</td>\n",
       "      <td>negative</td>\n",
       "    </tr>\n",
       "    <tr>\n",
       "      <th>2</th>\n",
       "      <td>RT @Chandankrishn13: @HuXijin_GT Xi Jinping is...</td>\n",
       "      <td>RT GT Xi Jinping is the unelected ruler of an ...</td>\n",
       "      <td>neutral</td>\n",
       "    </tr>\n",
       "    <tr>\n",
       "      <th>3</th>\n",
       "      <td>RT @narendramodi_in: We are facing many a cris...</td>\n",
       "      <td>RT in We are facing many a crisis Is all this ...</td>\n",
       "      <td>positive</td>\n",
       "    </tr>\n",
       "    <tr>\n",
       "      <th>4</th>\n",
       "      <td>RT @JIX5A: Sonia’s foot soldier Rajdeep Asks, ...</td>\n",
       "      <td>RT Sonia s foot soldier Rajdeep Asks why doesn...</td>\n",
       "      <td>neutral</td>\n",
       "    </tr>\n",
       "  </tbody>\n",
       "</table>\n",
       "</div>"
      ],
      "text/plain": [
       "                                              tweets  \\\n",
       "0  RT @srinivasiyc: Followed by PM Narendra Modi ...   \n",
       "1  @ashoswai @HappymonJacob Ashok sir, once upon ...   \n",
       "2  RT @Chandankrishn13: @HuXijin_GT Xi Jinping is...   \n",
       "3  RT @narendramodi_in: We are facing many a cris...   \n",
       "4  RT @JIX5A: Sonia’s foot soldier Rajdeep Asks, ...   \n",
       "\n",
       "                                        clean_tweets sentiment  \n",
       "0                    RT Followed by PM Narendra Modi   neutral  \n",
       "1  Ashok sir once upon a time Former ISI Chief Gn...  negative  \n",
       "2  RT GT Xi Jinping is the unelected ruler of an ...   neutral  \n",
       "3  RT in We are facing many a crisis Is all this ...  positive  \n",
       "4  RT Sonia s foot soldier Rajdeep Asks why doesn...   neutral  "
      ]
     },
     "execution_count": 14,
     "metadata": {},
     "output_type": "execute_result"
    }
   ],
   "source": [
    "df.head()"
   ]
  },
  {
   "cell_type": "markdown",
   "metadata": {},
   "source": [
    "## Calculating percentage of positive, negative and neutral tweets"
   ]
  },
  {
   "cell_type": "code",
   "execution_count": 15,
   "metadata": {},
   "outputs": [
    {
     "name": "stdout",
     "output_type": "stream",
     "text": [
      "Percentage of positive tweets are 30.0%\n",
      "Percentage of negative tweets are 14.0%\n",
      "Percentage of neutral tweets are 56.0%\n"
     ]
    }
   ],
   "source": [
    "total_positive_tweets = df[df['sentiment']=='positive']['tweets'].count()\n",
    "total_negative_tweets = df[df['sentiment']=='negative']['tweets'].count()\n",
    "total_neutral_tweets = df[df['sentiment']=='neutral']['tweets'].count()\n",
    "percentage_positve_tweets = (100*total_positive_tweets)/total_tweets\n",
    "percentage_negative_tweets = (100*total_negative_tweets)/total_tweets\n",
    "percentage_neutral_tweets = (100*total_neutral_tweets)/total_tweets\n",
    "print('Percentage of positive tweets are {}%'.format(percentage_positve_tweets))\n",
    "print('Percentage of negative tweets are {}%'.format(percentage_negative_tweets))\n",
    "print('Percentage of neutral tweets are {}%'.format(percentage_neutral_tweets))"
   ]
  }
 ],
 "metadata": {
  "kernelspec": {
   "display_name": "Python 3",
   "language": "python",
   "name": "python3"
  },
  "language_info": {
   "codemirror_mode": {
    "name": "ipython",
    "version": 3
   },
   "file_extension": ".py",
   "mimetype": "text/x-python",
   "name": "python",
   "nbconvert_exporter": "python",
   "pygments_lexer": "ipython3",
   "version": "3.7.0"
  }
 },
 "nbformat": 4,
 "nbformat_minor": 2
}
